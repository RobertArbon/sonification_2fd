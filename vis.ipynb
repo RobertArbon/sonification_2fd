{
 "cells": [
  {
   "cell_type": "code",
   "execution_count": 8,
   "id": "085d9f5a-dbf3-4a33-962d-434d1dc8e2e0",
   "metadata": {},
   "outputs": [],
   "source": [
    "import mdtraj as md\n",
    "import numpy as np"
   ]
  },
  {
   "cell_type": "code",
   "execution_count": 2,
   "id": "3544b06b-29ba-4e46-9e1a-a8dded5c9abd",
   "metadata": {},
   "outputs": [],
   "source": [
    "# traj = md.load('reimaged_trajectory/24D_BC400s3_6.5_reimaged.xtc', \n",
    "#                top='reimaged_trajectory/choose_translation/24D_BC400s3_6.5_reimaged.pdb')\n",
    "\n",
    "# traj[:3000].save_xtc('visualisation/traj_3000_translated.xtc')\n",
    "# traj[0].save_pdb('visualisation/top_translated.pdb')"
   ]
  },
  {
   "cell_type": "code",
   "execution_count": 22,
   "id": "784487fc-82e4-4ded-b4f3-86c231c197e9",
   "metadata": {},
   "outputs": [],
   "source": [
    "traj = md.load('visualisation/traj_3000_translated.xtc',top='visualisation/top_translated.pdb')\n"
   ]
  },
  {
   "cell_type": "code",
   "execution_count": 25,
   "id": "39a028f4-6cf6-463b-87f7-4c2decc29872",
   "metadata": {},
   "outputs": [],
   "source": [
    "df = traj.top.to_dataframe()[0]\n"
   ]
  },
  {
   "cell_type": "code",
   "execution_count": 27,
   "id": "539804a1-31cf-4f8a-bc8a-ef176d4bebd2",
   "metadata": {},
   "outputs": [
    {
     "data": {
      "text/plain": [
       "array(['4G1', '4G2', '4G3', '4G4', '4G5', '4G7', 'HOH', 'NA', 'CL', 'DCP'],\n",
       "      dtype=object)"
      ]
     },
     "execution_count": 27,
     "metadata": {},
     "output_type": "execute_result"
    }
   ],
   "source": [
    "df.resName.unique()"
   ]
  },
  {
   "cell_type": "code",
   "execution_count": 28,
   "id": "7fd0afda-d0c6-4463-88fe-e8d87930d117",
   "metadata": {},
   "outputs": [],
   "source": [
    "non_water = np.concatenate([traj.top.select('resname DCP'), traj.top.select(\"resname =~ '4G*'\")]).astype(int)\n"
   ]
  },
  {
   "cell_type": "code",
   "execution_count": 29,
   "id": "65affef9-5570-4213-88db-07fc7d9b048c",
   "metadata": {},
   "outputs": [],
   "source": [
    "traj.atom_slice(non_water)[:50:25].save_pdb('visualisation/traj_50_translated.pdb')"
   ]
  },
  {
   "cell_type": "code",
   "execution_count": null,
   "id": "86d864b5-50da-4317-962c-462166c3876c",
   "metadata": {},
   "outputs": [],
   "source": []
  }
 ],
 "metadata": {
  "kernelspec": {
   "display_name": "Python 3 (ipykernel)",
   "language": "python",
   "name": "python3"
  },
  "language_info": {
   "codemirror_mode": {
    "name": "ipython",
    "version": 3
   },
   "file_extension": ".py",
   "mimetype": "text/x-python",
   "name": "python",
   "nbconvert_exporter": "python",
   "pygments_lexer": "ipython3",
   "version": "3.9.0"
  }
 },
 "nbformat": 4,
 "nbformat_minor": 5
}
